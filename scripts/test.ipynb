{
 "cells": [
  {
   "cell_type": "code",
   "execution_count": 26,
   "metadata": {},
   "outputs": [
    {
     "name": "stdout",
     "output_type": "stream",
     "text": [
      "[ 0.9171186   0.39796103 -0.00282702  0.02263848]\n",
      "[3.10229771 0.02320597 0.81835631]\n"
     ]
    }
   ],
   "source": [
    "import numpy as np\n",
    "from scipy.spatial.transform import Rotation\n",
    "angle=np.array([3.102297711705674, 0.023205965984677442, 0.8183563132048056])\n",
    "r = Rotation.from_euler('xyz', angle)\n",
    "quaternion = r.as_quat()\n",
    "print(quaternion)\n",
    "\n",
    "r = Rotation.from_quat(quaternion)\n",
    "euler_angles = r.as_euler('xyz')\n",
    "print(euler_angles)\n",
    "\n"
   ]
  },
  {
   "cell_type": "code",
   "execution_count": 2,
   "metadata": {},
   "outputs": [
    {
     "ename": "error",
     "evalue": "Only one local in-process GUI/GUI_SERVER connection allowed. Use DIRECT connection mode or start a separate GUI physics server (ExampleBrowser, App_SharedMemoryPhysics_GUI, App_SharedMemoryPhysics_VR) and connect over SHARED_MEMORY, UDP or TCP instead.",
     "output_type": "error",
     "traceback": [
      "\u001b[0;31m---------------------------------------------------------------------------\u001b[0m",
      "\u001b[0;31merror\u001b[0m                                     Traceback (most recent call last)",
      "Cell \u001b[0;32mIn[2], line 2\u001b[0m\n\u001b[1;32m      1\u001b[0m \u001b[38;5;28;01mimport\u001b[39;00m \u001b[38;5;21;01mpybullet\u001b[39;00m \u001b[38;5;28;01mas\u001b[39;00m \u001b[38;5;21;01mp\u001b[39;00m\n\u001b[0;32m----> 2\u001b[0m \u001b[43mp\u001b[49m\u001b[38;5;241;43m.\u001b[39;49m\u001b[43mconnect\u001b[49m\u001b[43m(\u001b[49m\u001b[43mp\u001b[49m\u001b[38;5;241;43m.\u001b[39;49m\u001b[43mGUI\u001b[49m\u001b[43m)\u001b[49m\n\u001b[1;32m      3\u001b[0m p\u001b[38;5;241m.\u001b[39mresetSimulation()\n\u001b[1;32m      4\u001b[0m p\u001b[38;5;241m.\u001b[39msetGravity(\u001b[38;5;241m0\u001b[39m,\u001b[38;5;241m0\u001b[39m,\u001b[38;5;241m-\u001b[39m\u001b[38;5;241m9.8\u001b[39m)\n",
      "\u001b[0;31merror\u001b[0m: Only one local in-process GUI/GUI_SERVER connection allowed. Use DIRECT connection mode or start a separate GUI physics server (ExampleBrowser, App_SharedMemoryPhysics_GUI, App_SharedMemoryPhysics_VR) and connect over SHARED_MEMORY, UDP or TCP instead."
     ]
    },
    {
     "ename": "",
     "evalue": "",
     "output_type": "error",
     "traceback": [
      "\u001b[1;31mThe Kernel crashed while executing code in the the current cell or a previous cell. Please review the code in the cell(s) to identify a possible cause of the failure. Click <a href='https://aka.ms/vscodeJupyterKernelCrash'>here</a> for more info. View Jupyter <a href='command:jupyter.viewOutput'>log</a> for further details."
     ]
    }
   ],
   "source": [
    "import pybullet as p\n",
    "p.connect(p.GUI)\n",
    "p.resetSimulation()\n",
    "p.setGravity(0,0,-9.8)\n",
    "p.setTimeStep(1./60)\n",
    "p.setRealTimeSimulation(0)\n",
    "\n",
    "id = p.loadURDF(\"data/urdfs/panda/robotiq_85.urdf\")\n",
    "numJoints = p.getNumJoints(id)\n",
    "joints_indexes = [i for i in range(numJoints) if p.getJointInfo(id, i)[2] != p.JOINT_FIXED]  # 可以使用的关节索引\n",
    "print([p.getJointInfo(id, i) for i in joints_indexes])\n"
   ]
  },
  {
   "cell_type": "code",
   "execution_count": 3,
   "metadata": {},
   "outputs": [],
   "source": [
    "import rospy\n",
    "import RobotControl_func_ros1 as RobotControl_func\n",
    "import cv_bridge\n",
    "\n",
    "cv_bridge = cv_bridge.CvBridge()\n",
    "\n",
    "# #可能從這裡取得的 task到cam\n",
    "# cam_frame_id = rospy.get_param(\"~cam/frame_id\")\n",
    "# img = cv_bridge.imgmsg_to_cv2(msg).astype(np.float32) * 0.001\n",
    "# T_cam_task = tf_tree.lookup(\n",
    "#     cam_frame_id, \"task\", msg.header.stamp, rospy.Duration(0.1)\n",
    "# )"
   ]
  },
  {
   "cell_type": "code",
   "execution_count": 7,
   "metadata": {},
   "outputs": [
    {
     "name": "stdout",
     "output_type": "stream",
     "text": [
      "[ 640x480  p[320.475 233.976]  f[382.94 382.94]  Brown Conrady [0 0 0 0 0] ]\n"
     ]
    }
   ],
   "source": [
    "\n",
    "import pyrealsense2 as rs\n",
    "pipeline = rs.pipeline()\n",
    "config = rs.config()\n",
    "config.enable_stream(rs.stream.depth, 640, 480, rs.format.z16, 30)\n",
    "config.enable_stream(rs.stream.color, 640, 480, rs.format.rgb8, 30)\n",
    "cfg = pipeline.start(config)\n",
    "profile = cfg.get_stream(rs.stream.depth)\n",
    "intr = profile.as_video_stream_profile().get_intrinsics()\n",
    "print(intr)  #"
   ]
  },
  {
   "cell_type": "markdown",
   "metadata": {},
   "source": [
    "[[ 0.99959658 -0.00447668 -0.02804718]\n",
    " [ 0.00441263  0.99998751 -0.00234523]\n",
    " [ 0.02805733  0.00222052  0.99960385]]\n",
    "[[-85.23109251]\n",
    " [-73.48531014]\n",
    " [355.95850582]]  目前位置的相機外參"
   ]
  },
  {
   "cell_type": "code",
   "execution_count": 17,
   "metadata": {},
   "outputs": [
    {
     "name": "stdout",
     "output_type": "stream",
     "text": [
      "$$$$$$$\n",
      "(0.2126485137939453, -0.5746722412109375, 0.11454066467285157, -3.0813151981091575, 0.02319790784178535, 0.8021553056084448)\n",
      "$$$$$$$\n",
      "[212.6485137939453, -574.6722412109375, 114.54066467285156, -3.0813151981091575, 0.02319790784178535, 0.8021553056084448]\n"
     ]
    }
   ],
   "source": [
    "import rospy\n",
    "import RobotControl_func_ros1 as RobotControl_func\n",
    "\n",
    "rospy.init_node(\"RobotControl\",anonymous=True)\n",
    "robot = RobotControl_func.RobotControl_Func()\n",
    "totallist=[]\n",
    "[x,y,z,u,v,w] = robot.get_TMPos()\n",
    "print([x,y,z,u,v,w])"
   ]
  },
  {
   "cell_type": "markdown",
   "metadata": {},
   "source": [
    "每次取得一個點位並寫入"
   ]
  },
  {
   "cell_type": "code",
   "execution_count": 91,
   "metadata": {},
   "outputs": [
    {
     "name": "stdout",
     "output_type": "stream",
     "text": [
      "(-0.02632029724121094, -0.356956787109375, 0.411585693359375, 2.831134383197697, -0.5038458767665858, -0.16469119674628832)\n",
      "(-5.605193857299268e-48, -5.605193857299268e-48, 5.605193857299268e-48, 9.782908802243343e-47, -9.782908802243343e-47, 9.782908802243343e-47)\n",
      "(-0.02632029724121094, -0.356956787109375, 0.411585693359375, 2.831134383197697, -0.5038458767665858, -0.16469119674628832)\n",
      "(-5.605193857299268e-48, -5.605193857299268e-48, 5.605193857299268e-48, 9.782908802243343e-47, -9.782908802243343e-47, 9.782908802243343e-47)\n",
      "[233.795304093496, -271.0178254177077, 411.585693359375, 162.21205139160156, -28.868242263793945, -9.436110496520996]\n",
      "(-0.02632029724121094, -0.356956787109375, 0.411585693359375, 2.831134383197697, -0.5038458767665858, -0.16469119674628832)\n",
      "(-5.605193857299268e-48, -5.605193857299268e-48, 5.605193857299268e-48, 9.782908802243343e-47, -9.782908802243343e-47, 9.782908802243343e-47)\n",
      "(-0.02632029724121094, -0.356956787109375, 0.411585693359375, 2.831134383197697, -0.5038458767665858, -0.16469119674628832)\n",
      "(-5.605193857299268e-48, -5.605193857299268e-48, 5.605193857299268e-48, 9.782908802243343e-47, -9.782908802243343e-47, 9.782908802243343e-47)\n",
      "<class 'list'>\n"
     ]
    }
   ],
   "source": [
    "robot.get_TMPos()\n",
    "print(robot.get_TMPos())\n",
    "totallist.append(robot.get_TMPos())\n",
    "print(type(robot.get_TMPos()))\n"
   ]
  },
  {
   "cell_type": "code",
   "execution_count": 95,
   "metadata": {},
   "outputs": [
    {
     "name": "stdout",
     "output_type": "stream",
     "text": [
      "20\n",
      "[[594.0838069345818, -138.5408801148759, 467.4356994628906, -173.66317749023438, 1.6348413228988647, 40.24143981933594], [651.1750404833966, -137.92859227889605, 377.5372314453125, -161.86044311523438, 6.094341278076173, 43.08310317993164], [380.57412494766294, -154.7507657518352, 465.6792907714844, 155.37606811523438, 0.7027701139450073, 40.455318450927734], [552.544283046787, 91.85597185453206, 469.34497070312506, -178.34031677246094, 26.35577392578125, 79.72480773925783], [505.931211898094, 40.430569496767646, 417.74749755859375, -178.93786621093753, 24.97023963928223, 77.29475402832031], [379.65062208488035, -171.83297921094038, 396.77734375, 149.84552001953128, -2.5344710350036626, 37.02196502685547], [313.1101271400841, -216.13275617872853, 464.00189208984375, 165.38563537597656, -8.392745971679688, 7.755660057067872], [316.2141420548246, -218.0021395206294, 411.0020446777344, 164.49418640136716, -22.723831176757812, 1.4787429571151733], [233.0353363977323, -175.30989595431373, 683.2503662109375, 171.5413818359375, -21.719711303710938, -0.6140484809875488], [414.79957780511876, -237.51933219296103, 603.5322265625, -174.9716339111328, -15.467803955078123, -3.737208127975464], [503.0539726536259, -51.29590565995254, 375.5477600097656, 175.12493896484375, 14.943559646606447, 39.2091178894043], [580.6029007416711, 9.051993968462197, 464.00018310546875, -171.6441650390625, 15.597503662109375, 41.904556274414055], [704.5625735263708, -5.463094734469443, 276.04052734375, -159.20770263671875, 31.903396606445312, 51.70433044433594], [389.1585950523619, -52.71503927683339, 741.1685791015625, 164.48062133789062, -0.1004832461476326, 38.60519790649414], [699.1994767418531, -34.262051157654, 542.7216186523438, -159.6223907470703, 16.441404342651367, 34.38968276977538], [315.4986517597071, -180.57179984143065, 504.970458984375, 146.3219757080078, -0.15390565991401672, 25.624868392944336], [546.869690706043, 155.49661796227036, 508.43298339843756, -174.7596893310547, 31.34952735900879, 69.66913604736328], [538.1611726481076, 146.33208853653616, 424.66839599609375, -173.2864227294922, 31.832077026367184, 70.44954681396486], [162.116003730616, -245.29825936014004, 503.5932006835938, 152.44273376464844, -21.98662567138672, -4.411279201507568], [233.795304093496, -271.0178254177077, 411.585693359375, 162.21205139160156, -28.868242263793945, -9.436110496520996]]\n"
     ]
    }
   ],
   "source": [
    "print(len(totallist))\n",
    "print(totallist) #顯示目前儲存的"
   ]
  },
  {
   "cell_type": "markdown",
   "metadata": {},
   "source": []
  },
  {
   "cell_type": "markdown",
   "metadata": {},
   "source": [
    "把點位寫入"
   ]
  },
  {
   "cell_type": "code",
   "execution_count": 94,
   "metadata": {},
   "outputs": [],
   "source": [
    "file_name = 'EIH_PosSet.txt'\n",
    "with open(file_name, 'w+') as file:\n",
    "    for sublist in totallist:\n",
    "        file.write(str(sublist))\n",
    "        file.write('\\n')"
   ]
  },
  {
   "cell_type": "code",
   "execution_count": 5,
   "metadata": {},
   "outputs": [
    {
     "name": "stdout",
     "output_type": "stream",
     "text": [
      "[178.87187194824222, 1.2370769977569582, 50.827117919921875]\n"
     ]
    }
   ],
   "source": [
    "import numpy as np\n",
    "\n",
    "print([3.1219031047025103 * 180 / np.pi, 0.021591066711545426* 180 / np.pi, 0.8871005570020483* 180 / np.pi])"
   ]
  },
  {
   "cell_type": "code",
   "execution_count": 10,
   "metadata": {},
   "outputs": [
    {
     "name": "stdout",
     "output_type": "stream",
     "text": [
      "$$$$$$$\n",
      "(0.20950041198730468, -0.3604853515625, 0.10233863830566406, -3.1144800757961324, 0.03408715117841522, 0.922632851740049)\n",
      "$$$$$$$\n",
      "[209.5004119873047, -360.4853515625, 102.33863830566406, -3.1144800757961324, 0.03408715117841522, 0.922632851740049]\n"
     ]
    }
   ],
   "source": [
    "[x,y,z,u,v,w] = robot.get_TMPos()\n",
    "print([x,y,z,u,v,w])\n",
    "\n",
    "\n",
    "#robot.set_TMPos([x,y,z-100,u,v,w])"
   ]
  },
  {
   "cell_type": "code",
   "execution_count": 145,
   "metadata": {},
   "outputs": [
    {
     "name": "stdout",
     "output_type": "stream",
     "text": [
      "[0.3221174926757813, -0.5180438842773437, 0.46743569946289065, -3.0309942366798928, 0.028533363832244956, 0.7023456205905642]\n",
      "[INFO] [1706959269.428046]: point 1 (Tag 1) is reached\n"
     ]
    }
   ],
   "source": [
    "robot.set_TMPos(\n",
    "[315.3041076660156, -457.3834228515625, 305.3858642578125, 3.0696172630209846, 2.445537041037089e-06, 0.7746355970631383]\n",
    ")       \n",
    "#回正中間高度一定要大於100才不會撞到"
   ]
  },
  {
   "cell_type": "code",
   "execution_count": 108,
   "metadata": {},
   "outputs": [
    {
     "name": "stdout",
     "output_type": "stream",
     "text": [
      "[0.2774029541015625, -0.5208560791015625, 0.39837661743164066, -2.9231042545986026, -0.17800830048771593, 0.4842651180098327]\n",
      "[INFO] [1706957149.165105]: point 1 (Tag 1) is reached\n"
     ]
    }
   ],
   "source": [
    "[x,y,z,u,v,w]=[100, 100, 100.4959716796875, -176.01728820800784, 0.5390524864196777, 46.80111312866211]\n",
    "robot.set_TMPos([564.4543755213471, -172.14735558855622, 398.3766174316407, -167.48153686523438, -10.199124336242678, 27.746347427368164])#mm  | x+    <- y+   z+是往上\n",
    "#一定要大於100才不會撞到\n",
    "#robot.set_TMPos([484.1042532418399, -86.53510553787287, 396.6761474609375, -178.4583587646484, -0.2089095413684845, 44.86580276489258])\n",
    "#z軸似乎比實際上少了3公分"
   ]
  },
  {
   "cell_type": "code",
   "execution_count": 1,
   "metadata": {},
   "outputs": [],
   "source": [
    "from gripper import Gripper"
   ]
  },
  {
   "cell_type": "code",
   "execution_count": 7,
   "metadata": {},
   "outputs": [
    {
     "name": "stdout",
     "output_type": "stream",
     "text": [
      "Response: b'091003e800030130'\n",
      "Close gripper\n",
      "Response: b'091003e800030130'\n"
     ]
    }
   ],
   "source": [
    "from gripper import Gripper\n",
    "G = Gripper()\n",
    "G.gripper_soft_off()\n"
   ]
  },
  {
   "cell_type": "code",
   "execution_count": 5,
   "metadata": {},
   "outputs": [
    {
     "name": "stdout",
     "output_type": "stream",
     "text": [
      "Activate gripper:\n",
      "Clear: 09 10 03 E8 00 03 06 00 00 00 00 00 00 73 30\n",
      "Response: b'091003e800030130'\n",
      "Set: 09 10 03 E8 00 03 06 01 00 00 00 00 00 72 E1\n",
      "b'D z@\\xa0 \\xcc'\n",
      "b'\\t\\x03\\x021\\x00L\\x15'\n",
      "Activate Complete\n"
     ]
    }
   ],
   "source": [
    "G.gripper_reset()"
   ]
  },
  {
   "cell_type": "code",
   "execution_count": 10,
   "metadata": {},
   "outputs": [
    {
     "name": "stdout",
     "output_type": "stream",
     "text": [
      "Open gripper\n",
      "Response: b'091003e800030130'\n"
     ]
    }
   ],
   "source": [
    "G.gripper_on()"
   ]
  },
  {
   "cell_type": "code",
   "execution_count": 11,
   "metadata": {},
   "outputs": [
    {
     "name": "stdout",
     "output_type": "stream",
     "text": [
      "Close gripper\n",
      "Response: b'091003e800030130'\n"
     ]
    }
   ],
   "source": [
    "G.gripper_soft_off()\n",
    "#G.gripper_on()"
   ]
  },
  {
   "cell_type": "code",
   "execution_count": 35,
   "metadata": {},
   "outputs": [
    {
     "ename": "NameError",
     "evalue": "name 'G' is not defined",
     "output_type": "error",
     "traceback": [
      "\u001b[0;31m---------------------------------------------------------------------------\u001b[0m",
      "\u001b[0;31mNameError\u001b[0m                                 Traceback (most recent call last)",
      "Cell \u001b[0;32mIn[35], line 1\u001b[0m\n\u001b[0;32m----> 1\u001b[0m \u001b[43mG\u001b[49m\u001b[38;5;241m.\u001b[39mgripper_status()\n",
      "\u001b[0;31mNameError\u001b[0m: name 'G' is not defined"
     ]
    }
   ],
   "source": [
    "G.gripper_status()"
   ]
  },
  {
   "cell_type": "code",
   "execution_count": 1,
   "metadata": {},
   "outputs": [
    {
     "name": "stdout",
     "output_type": "stream",
     "text": [
      "[[-9.99523694e-01  2.23258360e-02  2.13059047e-02  3.12689041e+01]\n",
      " [-2.32043880e-02 -9.98851480e-01 -4.19198950e-02 -8.59567950e+01]\n",
      " [ 2.03455377e-02 -4.23943188e-02  9.98893779e-01 -1.14847755e+02]\n",
      " [ 0.00000000e+00  0.00000000e+00  0.00000000e+00  1.00000000e+00]]\n",
      "[[ 0.99888145 -0.04660927  0.00796429]\n",
      " [ 0.04537618  0.99223829  0.11577645]\n",
      " [-0.01329873 -0.11528555  0.99324337]]\n",
      "[[606.77737126   0.         321.63287183]\n",
      " [  0.         606.70030146 236.95293136]\n",
      " [  0.           0.           1.        ]]\n"
     ]
    }
   ],
   "source": [
    "import numpy as np\n",
    "\n",
    "print(np.load('Camera2Gripper.npy')) #偏移矩陣\n",
    "\n",
    "print(np.load('RC2G.npy')) #旋轉矩陣\n",
    "\n",
    "print(np.load('INS.npy')) #內參矩陣\n"
   ]
  },
  {
   "cell_type": "code",
   "execution_count": 20,
   "metadata": {},
   "outputs": [
    {
     "name": "stdout",
     "output_type": "stream",
     "text": [
      "[[ 0.6949719   0.7165791  -0.05940002]\n",
      " [ 0.7186626  -0.69490093  0.02523281]\n",
      " [-0.02319583 -0.06022467 -0.99791527]]\n"
     ]
    },
    {
     "data": {
      "text/plain": [
       "array([[ 0.6949719 ,  0.7165791 , -0.05940002],\n",
       "       [ 0.7186626 , -0.69490093,  0.02523281],\n",
       "       [-0.02319583, -0.06022467, -0.99791527]], dtype=float32)"
      ]
     },
     "execution_count": 20,
     "metadata": {},
     "output_type": "execute_result"
    }
   ],
   "source": [
    "import cv2\n",
    "def RotationTrans(v): #轉旋轉矩陣\n",
    "    #目前是使用弧度\n",
    "    # print(\"----------VVVVVV------\")\n",
    "    # print(\"v:\",v)\n",
    "    #pi = np.pi / 180 #轉成弧度\n",
    "    # tmp_v = v[0]\n",
    "    # v[0] = v[2]\n",
    "    # v[2] = tmp_v\n",
    "    # pi =   1\n",
    "    r1_mat = np.zeros((3, 3), np.float32)\n",
    "    r2_mat = np.zeros((3, 3), np.float32)\n",
    "    r3_mat = np.zeros((3, 3), np.float32)\n",
    "\n",
    "    r = np.zeros((3, 1), np.float32)\n",
    "    r[0] = 0\n",
    "    r[1] = 0\n",
    "    #r[2] = float(v[2]) * pi # 如果是角度轉成弧度\n",
    "    r[2] = float(v[2]) \n",
    "    r3_mat, jacobian = cv2.Rodrigues(r)\n",
    "    # print(\"r3_mat:\",r3_mat)\n",
    "    r[0] = 0\n",
    "    r[1] = float(v[1])\n",
    "    r[2] = 0\n",
    "    # print('ys ', math.sin(v[1]))\n",
    "    # print('yc ', math.cos(v[1]))\n",
    "    r2_mat, jacobian = cv2.Rodrigues(r)\n",
    "    # print(\"r2_mat:\",r2_mat)\n",
    "    r[0] = float(v[0])\n",
    "    r[1] = 0\n",
    "    r[2] = 0\n",
    "    r1_mat, jacobian = cv2.Rodrigues(r)\n",
    "    # print(\"r1_mat:\",r1_mat)\n",
    "\n",
    "    result = np.dot(np.dot(r3_mat, r2_mat), r1_mat)\n",
    "    # print(v)\n",
    "    # v = [element / 180 * np.pi for element in v]\n",
    "    # print(v)\n",
    "    # rxs = math.sin(v[0])\n",
    "    # rxc = math.cos(v[0])\n",
    "    # rys = math.sin(v[1])\n",
    "    # ryc = math.cos(v[1])\n",
    "    # rzs = math.sin(v[2])\n",
    "    # rzc = math.cos(v[2])\n",
    "\n",
    "    # r1_mat = np.array([[1,0,0],[0, rxc, -rxs], [0, rxs, rxc]])\n",
    "    # print(r1_mat)\n",
    "    # r2_mat = np.array([[ryc,0,rys],[0, 1, 0], [-rys, 0, ryc]])\n",
    "    # print(r2_mat)\n",
    "    # r3_mat = np.array([[rzc,-rzs,0],[rzs, rzc, 0], [0, 0, 1]])\n",
    "    # print(r3_mat)\n",
    "    \n",
    "    \n",
    "\n",
    "    # result = np.dot(np.dot(r3_mat, r2_mat), r1_mat)\n",
    "    \n",
    "    # print('result')\n",
    "    print(result)\n",
    "    return result\n",
    "\n",
    "RotationTrans([-3.0813151981091575, 0.02319790784178535, 0.8021553056084448]) #放弧度"
   ]
  },
  {
   "cell_type": "code",
   "execution_count": 21,
   "metadata": {},
   "outputs": [
    {
     "name": "stdout",
     "output_type": "stream",
     "text": [
      "Rotation matrix about z-axis (counter-clockwise 90 degrees):\n",
      "[[ 1.000000e+00  0.000000e+00  0.000000e+00]\n",
      " [ 0.000000e+00  6.123234e-17 -1.000000e+00]\n",
      " [ 0.000000e+00  1.000000e+00  6.123234e-17]]\n",
      "四元數：scipy\n",
      "[-0.02321464  0.92029725  0.38988536 -0.02243728]\n"
     ]
    }
   ],
   "source": [
    "import numpy as np\n",
    "\n",
    "def rotation_matrix_to_quaternion(R):\n",
    "    trace = np.trace(R)\n",
    "    if trace > 0:\n",
    "        S = 0.5 / np.sqrt(trace + 1.0)\n",
    "        w = 0.25 / S\n",
    "        x = (R[2, 1] - R[1, 2]) * S\n",
    "        y = (R[0, 2] - R[2, 0]) * S\n",
    "        z = (R[1, 0] - R[0, 1]) * S\n",
    "    elif R[0, 0] > R[1, 1] and R[0, 0] > R[2, 2]:\n",
    "        S = 2.0 * np.sqrt(1.0 + R[0, 0] - R[1, 1] - R[2, 2])\n",
    "        w = (R[2, 1] - R[1, 2]) / S\n",
    "        x = 0.25 * S\n",
    "        y = (R[0, 1] + R[1, 0]) / S\n",
    "        z = (R[0, 2] + R[2, 0]) / S\n",
    "    elif R[1, 1] > R[2, 2]:\n",
    "        S = 2.0 * np.sqrt(1.0 + R[1, 1] - R[0, 0] - R[2, 2])\n",
    "        w = (R[0, 2] - R[2, 0]) / S\n",
    "        x = (R[0, 1] + R[1, 0]) / S\n",
    "        y = 0.25 * S\n",
    "        z = (R[1, 2] + R[2, 1]) / S\n",
    "    else:\n",
    "        S = 2.0 * np.sqrt(1.0 + R[2, 2] - R[0, 0] - R[1, 1])\n",
    "        w = (R[1, 0] - R[0, 1]) / S\n",
    "        x = (R[0, 2] + R[2, 0]) / S\n",
    "        y = (R[1, 2] + R[2, 1]) / S\n",
    "        z = 0.25 * S\n",
    "\n",
    "    return np.array([w, x, y, z])\n",
    "\n",
    "#繞z軸用\n",
    "import numpy as np\n",
    "\n",
    "# 定義旋轉角度（弧度）\n",
    "theta = np.pi / 2\n",
    "\n",
    "# 計算旋轉矩陣\n",
    "R_x = np.array([\n",
    "    [1, 0, 0],\n",
    "    [0, np.cos(theta), -np.sin(theta)],\n",
    "    [0, np.sin(theta), np.cos(theta)]\n",
    "])\n",
    "\n",
    "print(\"Rotation matrix about z-axis (counter-clockwise 90 degrees):\")\n",
    "print(R_x)\n",
    "\n",
    "# 旋轉矩陣\n",
    "rotation_matrix = np.array([\n",
    "[ 0.6949719   ,0.7165791  ,-0.05940002],\n",
    " [ 0.7186626  ,-0.69490093  ,0.02523281],\n",
    " [-0.02319583, -0.06022467 ,-0.99791527]])\n",
    "\n",
    "# 轉換為四元數\n",
    "#rotation_matrix=R_x@rotation_matrix\n",
    "    # 轉換為四元數\n",
    "quaternion = rotation_matrix_to_quaternion(rotation_matrix)\n",
    "print(\"四元數：scipy\")\n",
    "print(quaternion)\n"
   ]
  },
  {
   "cell_type": "code",
   "execution_count": 32,
   "metadata": {},
   "outputs": [
    {
     "ename": "IndexError",
     "evalue": "index 3 is out of bounds for axis 0 with size 3",
     "output_type": "error",
     "traceback": [
      "\u001b[0;31m---------------------------------------------------------------------------\u001b[0m",
      "\u001b[0;31mIndexError\u001b[0m                                Traceback (most recent call last)",
      "Cell \u001b[0;32mIn[32], line 14\u001b[0m\n\u001b[1;32m     12\u001b[0m \u001b[38;5;66;03m# 範例\u001b[39;00m\n\u001b[1;32m     13\u001b[0m q \u001b[38;5;241m=\u001b[39m np\u001b[38;5;241m.\u001b[39marray([\u001b[38;5;241m3.083536008142175\u001b[39m, \u001b[38;5;241m0.057304984874700336\u001b[39m, \u001b[38;5;241m0.8014026962843885\u001b[39m])  \u001b[38;5;66;03m# 示例四元数\u001b[39;00m\n\u001b[0;32m---> 14\u001b[0m normalized_q \u001b[38;5;241m=\u001b[39m \u001b[43mnormalize_quaternion\u001b[49m\u001b[43m(\u001b[49m\u001b[43mq\u001b[49m\u001b[43m)\u001b[49m\n\u001b[1;32m     15\u001b[0m \u001b[38;5;28mprint\u001b[39m(\u001b[38;5;124m\"\u001b[39m\u001b[38;5;124mNormalized quaternion:\u001b[39m\u001b[38;5;124m\"\u001b[39m, normalized_q)\n\u001b[1;32m     17\u001b[0m \u001b[38;5;28mprint\u001b[39m(\u001b[38;5;124m\"\u001b[39m\u001b[38;5;124m歸一化平方和開根號\u001b[39m\u001b[38;5;124m\"\u001b[39m)\n",
      "Cell \u001b[0;32mIn[32], line 5\u001b[0m, in \u001b[0;36mnormalize_quaternion\u001b[0;34m(q)\u001b[0m\n\u001b[1;32m      3\u001b[0m \u001b[38;5;28;01mdef\u001b[39;00m \u001b[38;5;21mnormalize_quaternion\u001b[39m(q):\n\u001b[1;32m      4\u001b[0m     \u001b[38;5;66;03m# 計算四元數的長度（模）\u001b[39;00m\n\u001b[0;32m----> 5\u001b[0m     tmp\u001b[38;5;241m=\u001b[39mmath\u001b[38;5;241m.\u001b[39msqrt(q[\u001b[38;5;241m0\u001b[39m]\u001b[38;5;241m*\u001b[39mq[\u001b[38;5;241m0\u001b[39m]\u001b[38;5;241m+\u001b[39mq[\u001b[38;5;241m1\u001b[39m]\u001b[38;5;241m*\u001b[39mq[\u001b[38;5;241m1\u001b[39m]\u001b[38;5;241m+\u001b[39mq[\u001b[38;5;241m2\u001b[39m]\u001b[38;5;241m*\u001b[39mq[\u001b[38;5;241m2\u001b[39m]\u001b[38;5;241m+\u001b[39m\u001b[43mq\u001b[49m\u001b[43m[\u001b[49m\u001b[38;5;241;43m3\u001b[39;49m\u001b[43m]\u001b[49m\u001b[38;5;241m*\u001b[39mq[\u001b[38;5;241m3\u001b[39m])\n\u001b[1;32m      6\u001b[0m     \u001b[38;5;28mprint\u001b[39m(\u001b[38;5;124m\"\u001b[39m\u001b[38;5;124m原始平方和開根號\u001b[39m\u001b[38;5;124m\"\u001b[39m)\n\u001b[1;32m      7\u001b[0m     \u001b[38;5;28mprint\u001b[39m(tmp)\n",
      "\u001b[0;31mIndexError\u001b[0m: index 3 is out of bounds for axis 0 with size 3"
     ]
    }
   ],
   "source": [
    "import numpy as np\n",
    "\n",
    "def normalize_quaternion(q):\n",
    "    # 計算四元數的長度（模）\n",
    "    tmp=math.sqrt(q[0]*q[0]+q[1]*q[1]+q[2]*q[2]+q[3]*q[3])\n",
    "    print(\"原始平方和開根號\")\n",
    "    print(tmp)\n",
    "    quat_norm=[q[0]/tmp,q[1]/tmp,q[2]/tmp,q[3]/tmp]\n",
    "    return quat_norm\n",
    "import math\n",
    "\n",
    "# 範例\n",
    "q = np.array([-0.01138644 , 0.01041642, -0.02108575  ,0.99965856])  # 示例四元数\n",
    "normalized_q = normalize_quaternion(q)\n",
    "print(\"Normalized quaternion:\", normalized_q)\n",
    "\n",
    "print(\"歸一化平方和開根號\")\n",
    "print(math.sqrt(normalized_q[0]*normalized_q[0]+normalized_q[1]*normalized_q[1]+normalized_q[2]*normalized_q[2]+normalized_q[3]*normalized_q[3]))\n",
    "\n",
    "# from pyquaternion import Quaternion\n",
    "# rot_4 = Quaternion(q[3],q[0],q[1],q[2])\n",
    "# rot_4 = rot_4.normalised\n",
    "# print(rot_4)"
   ]
  },
  {
   "cell_type": "code",
   "execution_count": 2,
   "metadata": {},
   "outputs": [
    {
     "name": "stdout",
     "output_type": "stream",
     "text": [
      "旋轉矩陣：\n",
      "[[ 0.975926 -0.217446 -0.01712 ]\n",
      " [ 0.00255  -0.067274  0.997896]\n",
      " [-0.218104 -0.97392  -0.065104]]\n",
      "旋轉矩陣：scipy\n",
      "[[ 0.975926 -0.217446 -0.01712 ]\n",
      " [ 0.00255  -0.067274  0.997896]\n",
      " [-0.218104 -0.97392  -0.065104]]\n"
     ]
    }
   ],
   "source": [
    "import numpy as np\n",
    "from scipy.spatial.transform import Rotation as R\n",
    "\n",
    "def quaternion_to_rotation_matrix(q):\n",
    "    a, b, c, d = q\n",
    "    R = np.array([[1 - 2*(c**2 + d**2), 2*(b*c - a*d), 2*(a*c + b*d)],\n",
    "                  [2*(b*c + a*d), 1 - 2*(b**2 + d**2), 2*(c*d - a*b)],\n",
    "                  [2*(b*d - a*c), 2*(a*b + c*d), 1 - 2*(b**2 + c**2)]])\n",
    "    return R\n",
    "\n",
    "# 四元數\n",
    "quaternion = np.array([-0.679, 0.726, -0.074, -0.081])\n",
    "\n",
    "# 轉換為旋轉矩陣\n",
    "rotation_matrix = quaternion_to_rotation_matrix(quaternion)\n",
    "\n",
    "print(\"旋轉矩陣：\")\n",
    "print(rotation_matrix)\n",
    "\n",
    "\n",
    "r = R.from_quat(quaternion)\n",
    "r.as_matrix()\n",
    "print(\"旋轉矩陣：scipy\")\n",
    "print(rotation_matrix)"
   ]
  },
  {
   "cell_type": "code",
   "execution_count": 5,
   "metadata": {},
   "outputs": [
    {
     "name": "stdout",
     "output_type": "stream",
     "text": [
      "在原始影像中的位置：(215, 192)\n"
     ]
    }
   ],
   "source": [
    "def convert_coordinates(window_width, window_height, image_width, image_height, click_x, click_y):\n",
    "    # 計算寬度和高度的比例因子\n",
    "    width_scale = image_width / window_width\n",
    "    height_scale = image_height / window_height\n",
    "    \n",
    "    # 將視窗中的點擊位置轉換為原始大小影像中的位置\n",
    "    original_x = int(click_x * width_scale)\n",
    "    original_y = int(click_y * height_scale)\n",
    "    \n",
    "    return original_x, original_y\n",
    "\n",
    "# 視窗大小\n",
    "window_width = 889\n",
    "window_height = 500\n",
    "\n",
    "# 原始影像大小\n",
    "image_width = 640\n",
    "image_height = 480\n",
    "\n",
    "# 在視窗中的點擊位置\n",
    "click_x = 300\n",
    "click_y = 200\n",
    "\n",
    "# 轉換為原始影像中的位置\n",
    "original_x, original_y = convert_coordinates(window_width, window_height, image_width, image_height, click_x, click_y)\n",
    "\n",
    "print(\"在原始影像中的位置：({}, {})\".format(original_x, original_y))"
   ]
  },
  {
   "cell_type": "code",
   "execution_count": 146,
   "metadata": {},
   "outputs": [
    {
     "name": "stdout",
     "output_type": "stream",
     "text": [
      "[ 640x480  p[319.108 241.311]  f[611.058 611.026]  Inverse Brown Conrady [0 0 0 0 0] ]\n"
     ]
    }
   ],
   "source": [
    "import pyrealsense2 as rs\n",
    "pipeline = rs.pipeline()\n",
    "#self.colorizer = rs.colorizer()\n",
    "config = rs.config()\n",
    "#self.config.enable_device('f0265339') #只有一隻相機就不用指定\n",
    "config.enable_stream(rs.stream.depth, 640, 480, rs.format.z16, 30)\n",
    "config.enable_stream(rs.stream.color, 640, 480, rs.format.bgr8, 30)\n",
    "align_to = rs.stream.color\n",
    "align = rs.align(align_to)\n",
    "profile = pipeline.start(config)\n",
    "depth_sensor = profile.get_device().first_depth_sensor()\n",
    "depth_scale = depth_sensor.get_depth_scale()  \n",
    "frames = pipeline.wait_for_frames()\n",
    "aligned_frames = align.process(frames)\n",
    "depth_frame = aligned_frames.get_depth_frame()\n",
    "color_frame = aligned_frames.get_color_frame()\n",
    "_intrin = depth_frame.profile.as_video_stream_profile().intrinsics\n",
    "print(_intrin)\n",
    "pipeline.stop()"
   ]
  },
  {
   "cell_type": "code",
   "execution_count": 147,
   "metadata": {},
   "outputs": [
    {
     "ename": "NameError",
     "evalue": "name 'np' is not defined",
     "output_type": "error",
     "traceback": [
      "\u001b[0;31m---------------------------------------------------------------------------\u001b[0m",
      "\u001b[0;31mNameError\u001b[0m                                 Traceback (most recent call last)",
      "Cell \u001b[0;32mIn[147], line 2\u001b[0m\n\u001b[1;32m      1\u001b[0m \u001b[38;5;28;01mimport\u001b[39;00m \u001b[38;5;21;01mcv2\u001b[39;00m\n\u001b[0;32m----> 2\u001b[0m rvec\u001b[38;5;241m=\u001b[39m\u001b[43mnp\u001b[49m\u001b[38;5;241m.\u001b[39mmatrix([[\u001b[38;5;241m-\u001b[39m\u001b[38;5;241m0.67507828\u001b[39m],\n\u001b[1;32m      3\u001b[0m                 [ \u001b[38;5;241m0.3170204\u001b[39m ],\n\u001b[1;32m      4\u001b[0m                 [ \u001b[38;5;241m0.2399557\u001b[39m ]])\n\u001b[1;32m      6\u001b[0m rmatx \u001b[38;5;241m=\u001b[39m \u001b[38;5;241m0\u001b[39m\n\u001b[1;32m      7\u001b[0m rmatx \u001b[38;5;241m=\u001b[39m cv2\u001b[38;5;241m.\u001b[39mRodrigues(rvec,rmatx)[\u001b[38;5;241m0\u001b[39m]\n",
      "\u001b[0;31mNameError\u001b[0m: name 'np' is not defined"
     ]
    }
   ],
   "source": [
    "import cv2\n",
    "rvec=np.matrix([[-0.67507828],\n",
    "                [ 0.3170204 ],\n",
    "                [ 0.2399557 ]])\n",
    "\n",
    "rmatx = 0\n",
    "rmatx = cv2.Rodrigues(rvec,rmatx)[0]\n",
    "r_mat2,_ = cv2.Rodrigues(rvec)\n",
    "print(rmatx)\n",
    "print(r_mat2)\n"
   ]
  },
  {
   "cell_type": "code",
   "execution_count": 3,
   "metadata": {},
   "outputs": [
    {
     "name": "stderr",
     "output_type": "stream",
     "text": [
      "[ WARN:0@836.248] global cap_v4l.cpp:997 open VIDEOIO(V4L2:/dev/video0): can't open camera by index\n",
      "[ERROR:0@836.249] global obsensor_uvc_stream_channel.cpp:159 getStreamChannelGroup Camera index out of range\n"
     ]
    },
    {
     "ename": "AttributeError",
     "evalue": "'NoneType' object has no attribute 'shape'",
     "output_type": "error",
     "traceback": [
      "\u001b[0;31m---------------------------------------------------------------------------\u001b[0m",
      "\u001b[0;31mAttributeError\u001b[0m                            Traceback (most recent call last)",
      "Cell \u001b[0;32mIn[3], line 20\u001b[0m\n\u001b[1;32m     18\u001b[0m \u001b[38;5;28;01mwhile\u001b[39;00m \u001b[38;5;28;01mTrue\u001b[39;00m:\n\u001b[1;32m     19\u001b[0m     ret, frame \u001b[38;5;241m=\u001b[39m cap\u001b[38;5;241m.\u001b[39mread()\n\u001b[0;32m---> 20\u001b[0m     h1, w1 \u001b[38;5;241m=\u001b[39m \u001b[43mframe\u001b[49m\u001b[38;5;241;43m.\u001b[39;49m\u001b[43mshape\u001b[49m[:\u001b[38;5;241m2\u001b[39m]\n\u001b[1;32m     21\u001b[0m     \u001b[38;5;66;03m# 读取摄像头画面\u001b[39;00m\n\u001b[1;32m     22\u001b[0m     \u001b[38;5;66;03m# 纠正畸变\u001b[39;00m\n\u001b[1;32m     23\u001b[0m     newcameramtx, roi \u001b[38;5;241m=\u001b[39m cv2\u001b[38;5;241m.\u001b[39mgetOptimalNewCameraMatrix(mtx, dist, (h1, w1), \u001b[38;5;241m0\u001b[39m, (h1, w1))\n",
      "\u001b[0;31mAttributeError\u001b[0m: 'NoneType' object has no attribute 'shape'"
     ]
    }
   ],
   "source": [
    "import cv2\n",
    "import numpy as np\n",
    "import time\n",
    "# 生成aruco标记\n",
    "# 加载预定义的字典\n",
    "cap = cv2.VideoCapture(0)\n",
    "\n",
    "\n",
    "dist=np.array([ 4.90913179e-02 , 5.22699002e-01, -2.65209452e-03  ,1.13033224e-03,-2.17133474e+00])\n",
    "\n",
    "mtx=np.array([[606.77737126 ,  0.      ,   321.63287183],[  0.     ,    606.70030146 ,236.95293136],[  0.    ,       0.    ,       1.        ]])\n",
    "\n",
    "mtx=np.array([[398.12724231  , 0.      ,   304.35638757],\n",
    " [  0.       ,  345.38259888, 282.49861858],\n",
    " [  0.,           0.,           1.        ]])\n",
    "font = cv2.FONT_HERSHEY_SIMPLEX #font for displaying text (below)\n",
    "\n",
    "while True:\n",
    "    ret, frame = cap.read()\n",
    "    h1, w1 = frame.shape[:2]\n",
    "    # 读取摄像头画面\n",
    "    # 纠正畸变\n",
    "    newcameramtx, roi = cv2.getOptimalNewCameraMatrix(mtx, dist, (h1, w1), 0, (h1, w1))\n",
    "    dst1 = cv2.undistort(frame, mtx, dist, None, newcameramtx)\n",
    "    x, y, w1, h1 = roi\n",
    "    dst1 = dst1[y:y + h1, x:x + w1]\n",
    "    frame=dst1\n",
    "\n",
    "\n",
    "    gray = cv2.cvtColor(frame, cv2.COLOR_BGR2GRAY)\n",
    "    cv2.aruco_dict = cv2.aruco.getPredefinedDictionary(cv2.aruco.DICT_7X7_250)\n",
    "    parameters =  cv2.aruco.DetectorParameters()\n",
    "    dst1 = cv2.undistort(frame, mtx, dist, None, newcameramtx)\n",
    "    '''\n",
    "    detectMarkers(...)\n",
    "        detectMarkers(image, dictionary[, corners[, ids[, parameters[, rejectedI\n",
    "        mgPoints]]]]) -> corners, ids, rejectedImgPoints\n",
    "    '''\n",
    "\n",
    "    detector = cv2.aruco.ArucoDetector(cv2.aruco_dict , parameters)\n",
    "    corners, ids, rejected_img_points = detector.detectMarkers(frame)\n",
    "    #使用aruco.detectMarkers()函数可以检测到marker，返回ID和标志板的4个角点坐标\n",
    "    #corners, ids, rejectedImgPoints = cv2.aruco.detectMarkers(gray,aruco_dict,parameters=parameters)\n",
    "\n",
    "#    如果找不打id\n",
    "    if ids is not None:\n",
    "\n",
    "        rvec, tvec, _ = cv2.aruco.estimatePoseSingleMarkers(corners, 0.05, mtx, dist)\n",
    "        # 估计每个标记的姿态并返回值rvet和tvec ---不同\n",
    "        # from camera coeficcients\n",
    "        (rvec-tvec).any() # get rid of that nasty numpy value array error\n",
    "\n",
    "#        aruco.drawAxis(frame, mtx, dist, rvec, tvec, 0.1) #绘制轴\n",
    "#        aruco.drawDetectedMarkers(frame, corners) #在标记周围画一个正方形\n",
    "\n",
    "        for i in range(rvec.shape[0]):\n",
    "            cv2.aruco.drawAxis(frame, mtx, dist, rvec[i, :, :], tvec[i, :, :], 0.03)\n",
    "            cv2.aruco.drawDetectedMarkers(frame, corners)\n",
    "        ###### DRAW ID #####\n",
    "        cv2.putText(frame, \"Id: \" + str(ids), (0,64), font, 1, (0,255,0),2,cv2.LINE_AA)\n",
    "\n",
    "\n",
    "    else:\n",
    "        ##### DRAW \"NO IDS\" #####\n",
    "        cv2.putText(frame, \"No Ids\", (0,64), font, 1, (0,255,0),2,cv2.LINE_AA)\n",
    "\n",
    "\n",
    "    # 显示结果框架\n",
    "    cv2.imshow(\"frame\",frame)\n",
    "\n",
    "    key = cv2.waitKey(1)\n",
    "\n",
    "    if key == 27:         # 按esc键退出\n",
    "        print('esc break...')\n",
    "        cap.release()\n",
    "        cv2.destroyAllWindows()\n",
    "        break\n",
    "\n",
    "    if key == ord(' '):   # 按空格键保存\n",
    "#        num = num + 1\n",
    "#        filename = \"frames_%s.jpg\" % num  # 保存一张图像\n",
    "        filename = str(time.time())[:10] + \".jpg\"\n",
    "        cv2.imwrite(filename, frame)\n"
   ]
  }
 ],
 "metadata": {
  "kernelspec": {
   "display_name": "Python 3",
   "language": "python",
   "name": "python3"
  },
  "language_info": {
   "codemirror_mode": {
    "name": "ipython",
    "version": 3
   },
   "file_extension": ".py",
   "mimetype": "text/x-python",
   "name": "python",
   "nbconvert_exporter": "python",
   "pygments_lexer": "ipython3",
   "version": "3.8.10"
  }
 },
 "nbformat": 4,
 "nbformat_minor": 2
}
